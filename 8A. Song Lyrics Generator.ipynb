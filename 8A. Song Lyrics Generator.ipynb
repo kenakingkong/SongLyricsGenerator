{
 "cells": [
  {
   "cell_type": "markdown",
   "metadata": {},
   "source": [
    "# 8A. Song Lyrics Generator\n",
    "\n",
    "In this lab, you will scrape a website to get lyrics of songs by your favorite artist. Then, you will train a model called a Markov chain on these lyrics so that you can generate a song in the style of your favorite artist.\n",
    "\n",
    "# Question 1. Scraping Song Lyrics\n",
    "\n",
    "Find a web site that has lyrics for several songs by your favorite artist. Scrape the lyrics into a Python list called `lyrics`, where each element of the list represents the lyrics of one song.\n",
    "\n",
    "**Tips:**\n",
    "- Find a web page that has links to all of the songs, like [this one](http://www.azlyrics.com/n/nirvana.html). [_Note:_ It appears that `azlyrics.com` blocks web scraping, so you'll have to find a different lyrics web site.] Then, you can scrape this page, extract the hyperlinks, and issue new HTTP requests to each hyperlink to get each song. \n",
    "- Use `time.sleep()` to stagger your HTTP requests so that you do not get banned by the website for making too many requests."
   ]
  },
  {
   "cell_type": "markdown",
   "metadata": {},
   "source": [
    "#### BROCKHAMPTON\n",
    "https://genius.com/artists/Brockhampton"
   ]
  },
  {
   "cell_type": "code",
   "execution_count": 1,
   "metadata": {},
   "outputs": [],
   "source": [
    "import requests\n",
    "import time\n",
    "import random\n",
    "\n",
    "from bs4 import BeautifulSoup"
   ]
  },
  {
   "cell_type": "code",
   "execution_count": 2,
   "metadata": {},
   "outputs": [],
   "source": [
    "resp = requests.get(\"https://genius.com/artists/Brockhampton\")"
   ]
  },
  {
   "cell_type": "code",
   "execution_count": 3,
   "metadata": {},
   "outputs": [],
   "source": [
    "soup = BeautifulSoup(resp.content,\"html.parser\")\n",
    "song_cards = soup.find_all(\"div\", {\"class\":\"mini_card_grid-song\"})"
   ]
  },
  {
   "cell_type": "code",
   "execution_count": 4,
   "metadata": {},
   "outputs": [
    {
     "data": {
      "text/plain": [
       "10"
      ]
     },
     "execution_count": 4,
     "metadata": {},
     "output_type": "execute_result"
    }
   ],
   "source": [
    "len(song_cards)"
   ]
  },
  {
   "cell_type": "code",
   "execution_count": 5,
   "metadata": {},
   "outputs": [
    {
     "data": {
      "text/plain": [
       "<div class=\"mini_card_grid-song\">\n",
       "<div>\n",
       "<a class=\"mini_card\" href=\"https://genius.com/Brockhampton-bleach-lyrics\">\n",
       "<div class=\"mini_card-thumbnail clipped_background_image--background_fill clipped_background_image\" style=\"background-image: url('https://images.genius.com/66074c4f1e656161fe74af9b4ca9f27e.300x300x1.png');\"></div>\n",
       "<div class=\"mini_card-info\">\n",
       "<div class=\"mini_card-title_and_subtitle\">\n",
       "<div class=\"mini_card-title\">BLEACH</div>\n",
       "<div class=\"mini_card-subtitle\">\n",
       "          BROCKHAMPTON\n",
       "        </div>\n",
       "</div>\n",
       "</div>\n",
       "</a>\n",
       "</div>\n",
       "</div>"
      ]
     },
     "execution_count": 5,
     "metadata": {},
     "output_type": "execute_result"
    }
   ],
   "source": [
    "song_cards[0]"
   ]
  },
  {
   "cell_type": "code",
   "execution_count": 6,
   "metadata": {},
   "outputs": [
    {
     "data": {
      "text/plain": [
       "'https://genius.com/Brockhampton-bleach-lyrics'"
      ]
     },
     "execution_count": 6,
     "metadata": {},
     "output_type": "execute_result"
    }
   ],
   "source": [
    "link = song_cards[0].find(\"a\",href=True)\n",
    "link[\"href\"]"
   ]
  },
  {
   "cell_type": "code",
   "execution_count": 7,
   "metadata": {},
   "outputs": [],
   "source": [
    "links = []\n",
    "for i in range(0,10):\n",
    "    links.append(song_cards[i].find(\"a\",href=True)['href'])"
   ]
  },
  {
   "cell_type": "code",
   "execution_count": 8,
   "metadata": {},
   "outputs": [
    {
     "data": {
      "text/plain": [
       "['https://genius.com/Brockhampton-bleach-lyrics',\n",
       " 'https://genius.com/Brockhampton-sweet-lyrics',\n",
       " 'https://genius.com/Brockhampton-gold-lyrics',\n",
       " 'https://genius.com/Brockhampton-star-lyrics',\n",
       " 'https://genius.com/Brockhampton-junky-lyrics',\n",
       " 'https://genius.com/Brockhampton-zipper-lyrics',\n",
       " 'https://genius.com/Brockhampton-gummy-lyrics',\n",
       " 'https://genius.com/Brockhampton-boogie-lyrics',\n",
       " 'https://genius.com/Brockhampton-rental-lyrics',\n",
       " 'https://genius.com/Brockhampton-face-lyrics']"
      ]
     },
     "execution_count": 8,
     "metadata": {},
     "output_type": "execute_result"
    }
   ],
   "source": [
    "links"
   ]
  },
  {
   "cell_type": "code",
   "execution_count": 9,
   "metadata": {},
   "outputs": [
    {
     "data": {
      "text/plain": [
       "\"[Chorus: Ryan Beatty]\\nWho got the feeling?\\nTell me why I cry when I feel it\\nTell me why, tell me why\\nWho got the feeling?\\nTell me why I cry when I feel it\\nTell me why, tell me why\\n(Why?)\\n\\n[Verse 1: Matt Champion]\\nPhone ringing, never outgoing, homebody\\nNever outgoing, put my doubts on when these walls up\\nTearing at the black tie, finish adding notches to my belt loop\\nThey say help you, I can't help you\\nWhy I can't speak out? Is wideout, wideout\\nKeep it deep inside my mind, it's off-kilter, off-kilter\\nI turn memory to fantasy, for that better pleasure, fuck\\nTime machine gonna make it better, maybe better for ya\\nI can't make this up, I can't take it back\\nFeel like a monster, feel like a deadhead zombie\\nFeelings you don't want me, I ain't giving up, you should set it off\\nTell me “Time's up”, let the water run, let my body run\\n\\n[Chorus: Ryan Beatty]\\nWho got the feeling?\\nTell me why I cry when I feel it\\nTell me why, tell me why\\nWho got the feeling?\\nTell me why I cry when I feel it\\nTell me why, tell me why\\n(Why?)\\n\\n[Verse 2: Merlyn Wood]\\nSaid she wanna get high off a nigga\\nI wanna die during sex or religion\\nGod and pussy only know my intentions\\nWaking on the tour bus then I'm swimming\\nYou'd be hurtin' if you trust me but you isn't\\nHonestly, that's probably the right decision\\nPrick up, listen, if you wanna get rich\\nNo sleep, how real bad man wake up\\n\\n[Verse 3: Ameer Vann]\\nI found false hope in all kinda places\\nHotel rooms and temporary feelings\\nI put my clothes on and try to check out\\nI try to hide from the sun, let it set now\\nDon't let God see me, I got a lot of demons\\nAnd I've been sleeping with 'em\\nAnd now I'm tangled in the sheets and sinking deeper with 'em\\nI'm going deeper in it, find me drownin' in it\\n\\n[Verse 4: Dom McLennon]\\nThey said “Do you make mistakes or do you make a change\\nOr do you draw the line for when it's better days?”\\nYou taste the wind for when it's cold enough to kill our flame\\nI wonder who's to blame\\nThey ask me “Do you make mistakes or do you make a change\\nOr do you draw the line for when it's better days?”\\nWe taste the wind for when it's cold enough to kill our flame\\nI wonder who's to blame\\n\\n[Chorus: Ryan Beatty]\\nWho got the feeling?\\nTell me why I cry when I feel it\\nTell me why, tell me why\\nWho got the feeling?\\nTell me why I cry when I feel it\\nTell me why\\nTell me why\\n(Why?)\\n\\n[Bridge: Joba]\\nEverything I have is a mirror\\nAnd everywhere I stand isn't solid ground\\nPeople don't make sense to me anymore\\nI'm hiding out, again\\nTryna figure it out\\nI'm tryna figure it out\\nI'm tryna figure it out, yeah\\nI'm tryna figure it out\\n\\n[Bridge: Kevin Abstract]\\nI forgot my passport\\nFor sure, all for a pretty sky\\nI forgot my passport\\nFor sure, all for a pretty sky\\nI forgot my passport\\nFor sure, all for a pretty sky\\nI forgot my passport\\nFor sure, all for a pretty sky\\n\\n[Outro: bearface]\\nEverything you wear, I'll be the one to care\\nSoftly raise your hair, all the angels stare, yeah\\nTell me why, tell me why\\n(Why?)\""
      ]
     },
     "execution_count": 9,
     "metadata": {},
     "output_type": "execute_result"
    }
   ],
   "source": [
    "# test getting lyrics\n",
    "resp =  requests.get('https://genius.com/Brockhampton-bleach-lyrics')\n",
    "soup = BeautifulSoup(resp.content, \"html.parser\")\n",
    "big_lyric_block = soup.find(\"div\", class_=\"lyrics\")\n",
    "lyric_block = big_lyric_block.find(\"p\").text\n",
    "lyric_block"
   ]
  },
  {
   "cell_type": "code",
   "execution_count": 10,
   "metadata": {},
   "outputs": [],
   "source": [
    "lyrics = []\n",
    "\n",
    "for link in links:\n",
    "    resp =  requests.get(link)\n",
    "    soup = BeautifulSoup(resp.content, \"html.parser\")\n",
    "    big_lyric_block = soup.find(\"div\", class_=\"lyrics\")\n",
    "    lyric_block = big_lyric_block.find(\"p\")\n",
    "    lyrics.append(lyric_block.text)"
   ]
  },
  {
   "cell_type": "code",
   "execution_count": 11,
   "metadata": {},
   "outputs": [],
   "source": [
    "# Print out the lyrics to the first song.\n",
    "#print(lyrics[0])"
   ]
  },
  {
   "cell_type": "markdown",
   "metadata": {},
   "source": [
    "`pickle` is a Python library that serializes Python objects to disk so that you can load them in later."
   ]
  },
  {
   "cell_type": "code",
   "execution_count": 12,
   "metadata": {},
   "outputs": [],
   "source": [
    "import pickle\n",
    "pickle.dump(lyrics, open(\"lyrics.pkl\", \"wb\"))"
   ]
  },
  {
   "cell_type": "markdown",
   "metadata": {},
   "source": [
    "# Question 2. Unigram Markov Chain Model\n",
    "\n",
    "You will build a Markov chain for the artist whose lyrics you scraped in Lab A. Your model will process the lyrics and store the word transitions for that artist. The transitions will be stored in a dict called `chain`, which maps each word to a list of \"next\" words.\n",
    "\n",
    "For example, if your song was [\"The Joker\" by the Steve Miller Band](https://www.youtube.com/watch?v=FgDU17xqNXo), `chain` might look as follows:\n",
    "\n",
    "```\n",
    "chain = {\n",
    "    \"some\": [\"people\", \"call\", \"people\"],\n",
    "    \"call\": [\"me\", \"me\", \"me\"],\n",
    "    \"the\": [\"space\", \"gangster\", \"pompitous\", ...],\n",
    "    \"me\": [\"the\", \"the\", \"Maurice\"],\n",
    "    ...\n",
    "}\n",
    "```\n",
    "\n",
    "Besides words, you should include a few additional states in your Markov chain. You should have `\"<START>\"` and `\"<END>\"` states so that we can keep track of how songs are likely to begin and end. You should also include a state called `\"<N>\"` to denote line breaks so that you can keep track of where lines begin and end. It is up to you whether you want to include normalize case and strip punctuation.\n",
    "\n",
    "So for example, for [\"The Joker\"](https://www.azlyrics.com/lyrics/stevemillerband/thejoker.html), you would add the following to your chain:\n",
    "\n",
    "```\n",
    "chain = {\n",
    "    \"<START>\": [\"Some\", ...],\n",
    "    \"Some\": [\"people\", ...],\n",
    "    \"people\": [\"call\", ...],\n",
    "    \"call\": [\"me\", ...],\n",
    "    \"me\": [\"the\", ...],\n",
    "    \"the\": [\"space\", ...],\n",
    "    \"space\": [\"cowboy,\", ...],\n",
    "    \"cowboy,\": [\"yeah\", ...],\n",
    "    \"yeah\": [\"<N>\", ...],\n",
    "    \"<N>\": [\"Some\", ..., \"Come\"],\n",
    "    ...,\n",
    "    \"Come\": [\"on\", ...],\n",
    "    \"on\": [\"baby\", ...],\n",
    "    \"baby\": [\"and\", ...],\n",
    "    \"and\": [\"I'll\", ...],\n",
    "    \"I'll\": [\"show\", ...],\n",
    "    \"show\": [\"you\", ...],\n",
    "    \"you\": [\"a\", ...],\n",
    "    \"a\": [\"good\", ...],\n",
    "    \"good\": [\"time\", ...],\n",
    "    \"time\": [\"<END>\", ...],\n",
    "}\n",
    "```\n",
    "\n",
    "Your chain will be trained on not just one song, but by all songs by your artist."
   ]
  },
  {
   "cell_type": "code",
   "execution_count": 13,
   "metadata": {},
   "outputs": [],
   "source": [
    "#testing on one lyric?\n",
    "\n",
    "lyric = lyrics[0]\n",
    "lyric_list = lyric.replace(\"\\n\",\" <n> \").lower().split()\n",
    "lyric_list.insert(0,\"<START>\")\n",
    "lyric_list.append(\"<END>\")\n",
    "lyric_list[:] = [x if x != '<n>' else '<N>' for x in lyric_list]\n",
    "\n",
    "index = 1\n",
    "chain = {}\n",
    "for word in lyric_list[index:]: \n",
    "    key = lyric_list[index - 1]\n",
    "    if key in chain:\n",
    "        chain[key].append(word)\n",
    "    else:\n",
    "        chain[key] = [word]\n",
    "    index += 1\n",
    "    \n",
    "#chain"
   ]
  },
  {
   "cell_type": "code",
   "execution_count": 14,
   "metadata": {},
   "outputs": [],
   "source": [
    "def train_markov_chain(lyrics):\n",
    "    \"\"\"\n",
    "    Args:\n",
    "      - lyrics: a list of strings, where each string represents\n",
    "                the lyrics of one song by an artist.\n",
    "    \n",
    "    Returns:\n",
    "      A dict that maps a single word (\"unigram\") to a list of\n",
    "      words that follow that word, representing the Markov\n",
    "      chain trained on the lyrics.\n",
    "    \"\"\"\n",
    "    chain = {\"<START>\": []}\n",
    "    for lyric in lyrics:\n",
    "        \n",
    "        lyric_list = lyric.replace(\"\\n\",\" <n> \").lower().split()\n",
    "        lyric_list.insert(0,\"<START>\")\n",
    "        lyric_list.append(\"<END>\")\n",
    "        lyric_list[:] = [x if x != '<n>' else '<N>' for x in lyric_list]\n",
    "        \n",
    "        index = 1\n",
    "        for word in lyric_list[index:]: \n",
    "            key = lyric_list[index - 1]\n",
    "            if key in chain:\n",
    "                chain[key].append(word)\n",
    "            else:\n",
    "                chain[key] = [word]\n",
    "            index += 1\n",
    "        \n",
    "    return chain"
   ]
  },
  {
   "cell_type": "code",
   "execution_count": 15,
   "metadata": {},
   "outputs": [
    {
     "name": "stdout",
     "output_type": "stream",
     "text": [
      "['[chorus:', '[verse', '[chorus:', '[verse', '[video', '[verse', '[verse', '[verse', '[verse', '[chorus:']\n",
      "['who', 'tell', 'tell', 'who', 'tell', 'tell', '(why?)', '<N>', '[verse', 'phone', 'never', 'tearing', 'they', 'why', 'keep', 'i', 'time', 'i', 'feel', 'feelings']\n"
     ]
    }
   ],
   "source": [
    "# Load the pickled lyrics object that you created in Lab A.\n",
    "import pickle\n",
    "lyrics = pickle.load(open(\"lyrics.pkl\", \"rb\"))\n",
    "\n",
    "# Call the function you wrote above.\n",
    "chain = train_markov_chain(lyrics)\n",
    "\n",
    "# What words tend to start a song (i.e., what words follow the <START> tag?)\n",
    "print(chain[\"<START>\"])\n",
    "\n",
    "# What words tend to begin a line (i.e., what words follow the line break tag?)\n",
    "print(chain[\"<N>\"][:20])"
   ]
  },
  {
   "cell_type": "markdown",
   "metadata": {},
   "source": [
    "Now, let's generate new lyrics using the Markov chain you constructed above. To do this, we'll begin at the `\"<START>\"` state and randomly sample a word from the list of words that follow `\"<START>\"`. Then, at each step, we'll randomly sample the next word from the list of words that followed each current word. We will continue this process until we sample the `\"<END>\"` state. This will give us the complete lyrics of a randomly generated song!\n",
    "\n",
    "You may find the `random.choice()` function helpful for this question."
   ]
  },
  {
   "cell_type": "code",
   "execution_count": 16,
   "metadata": {},
   "outputs": [],
   "source": [
    "def generate_new_lyrics(chain):\n",
    "    \"\"\"\n",
    "    Args:\n",
    "      - chain: a dict representing the Markov chain,\n",
    "               such as one generated by generate_new_lyrics()\n",
    "    \n",
    "    Returns:\n",
    "      A string representing the randomly generated song.\n",
    "    \"\"\"\n",
    "    \n",
    "    # a list for storing the generated words\n",
    "    words = []\n",
    "    # generate the first word\n",
    "    word = random.choice(chain[\"<START>\"])\n",
    "    #words.append(word)\n",
    "    \n",
    "    while word != \"<END>\":\n",
    "        words.append(word)\n",
    "        word = random.choice(chain[word])\n",
    "    \n",
    "    # join the words together into a string with line breaks\n",
    "    lyrics = \" \".join(words[:-1])\n",
    "    return \"\\n\".join(lyrics.split(\"<N>\"))"
   ]
  },
  {
   "cell_type": "code",
   "execution_count": 17,
   "metadata": {},
   "outputs": [
    {
     "name": "stdout",
     "output_type": "stream",
     "text": [
      "[video outro: dom mclennon] \n",
      " [chorus: kevin abstract] \n",
      " kobe bryant with respect \n",
      " ice on my name, brand new crib \n",
      " i was you taste the world so i've been dead \n",
      " brad pitt, start \n",
      " head, head, head, head, head, head, head, head, head, head, head, head, head \n",
      " [verse 3: merlyn wood] \n",
      " let it go obama when i feel all i need a friend \n",
      " time \n",
      " not enough feelin' saturated \n",
      " \n",
      " is fixed \n",
      " come fuck the windows tinted \n",
      " what they put me \n",
      " twistin' me by my passport \n",
      " we about to warnings \n",
      " \n",
      " this is fixed \n",
      " we still be hurtin' if you make me shit \n",
      " fly as hell, i forgot my willy \n",
      " they don't mean shit \n",
      " nic cage with the door \n",
      " whatchu mean? \n",
      " never outgoing, put my mama in high school, man, that syrup ‘til i hit, under control, i'm the fire, baby, i'm drowning \n",
      " [verse 3: dom mclennon] \n",
      " ain't taught 'em in the way\" \n",
      " [chorus: kevin abstract] \n",
      " my wife-a \n",
      " [chorus: ryan beatty] \n",
      " floating like \n",
      " black on when i gotcha \n",
      " ridin' on my uncles \n",
      " what are \n",
      " i'm seeing through the respect? is a pop \n",
      " i'm smashing on when i don't know is fixed \n",
      " wearing your lonesome \n",
      " \n",
      " and i keep 'em \n",
      " i wonder who's\n"
     ]
    }
   ],
   "source": [
    "print(generate_new_lyrics(chain))"
   ]
  },
  {
   "cell_type": "markdown",
   "metadata": {},
   "source": [
    "# Question 3. Bigram Markov Chain Model\n",
    "\n",
    "Now you'll build a more complex Markov chain that uses the last _two_ words (or bigram) to predict the next word. Now your dict `chain` should map a _tuple_ of words to a list of words that appear after it.\n",
    "\n",
    "As before, you should also include tags that indicate the beginning and end of a song, as well as line breaks. That is, a tuple might contain tags like `\"<START>\"`, `\"<END>\"`, and `\"<N>\"`, in addition to regular words. So for example, for [\"The Joker\"](https://www.azlyrics.com/lyrics/stevemillerband/thejoker.html), you would add the following to your chain:\n",
    "\n",
    "```\n",
    "chain = {\n",
    "    (None, \"<START>\"): [\"Some\", ...],\n",
    "    (\"<START>\", \"Some\"): [\"people\", ...],\n",
    "    (\"Some\", \"people\"): [\"call\", ...],\n",
    "    (\"people\", \"call\"): [\"me\", ...],\n",
    "    (\"call\", \"me\"): [\"the\", ...],\n",
    "    (\"me\", \"the\"): [\"space\", ...],\n",
    "    (\"the\", \"space\"): [\"cowboy,\", ...],\n",
    "    (\"space\", \"cowboy,\"): [\"yeah\", ...],\n",
    "    (\"cowboy,\", \"yeah\"): [\"<N>\", ...],\n",
    "    (\"yeah\", \"<N>\"): [\"Some\", ...],\n",
    "    (\"time\", \"<N>\"): [\"Come\"],\n",
    "    ...,\n",
    "    (\"<N>\", \"Come\"): [\"on\", ...],\n",
    "    (\"Come\", \"on\"): [\"baby\", ...],\n",
    "    (\"on\", \"baby\"): [\"and\", ...],\n",
    "    (\"baby\", \"and\"): [\"I'll\", ...],\n",
    "    (\"and\", \"I'll\"): [\"show\", ...],\n",
    "    (\"I'll\", \"show\"): [\"you\", ...],\n",
    "    (\"show\", \"you\"): [\"a\", ...],\n",
    "    (\"you\", \"a\"): [\"good\", ...],\n",
    "    (\"a\", \"good\"): [\"time\", ...],\n",
    "    (\"good\", \"time\"): [\"<END>\", ...],\n",
    "}\n",
    "```"
   ]
  },
  {
   "cell_type": "code",
   "execution_count": 18,
   "metadata": {},
   "outputs": [],
   "source": [
    "#testing bigrams\n",
    "\n",
    "lyric = lyrics[0]\n",
    "lyric_list = lyric.replace(\"\\n\",\" <n> \").lower().split()\n",
    "lyric_list.insert(0,\"<START>\")\n",
    "lyric_list.append(\"<END>\")\n",
    "lyric_list[:] = [x if x != '<n>' else '<N>' for x in lyric_list]\n",
    "\n",
    "chain = {(None, \"<START>\"): []}\n",
    "chain[(None, \"<START>\")].append(lyric_list[1])\n",
    "\n",
    "index = 2\n",
    "for word in lyric_list[index:]: \n",
    "    key = (lyric_list[index-2],lyric_list[index - 1])\n",
    "    if key in chain:\n",
    "        chain[key].append(word)\n",
    "    else:\n",
    "        chain[key] = [word]\n",
    "    index += 1\n",
    "    \n",
    "#chain"
   ]
  },
  {
   "cell_type": "code",
   "execution_count": 19,
   "metadata": {},
   "outputs": [],
   "source": [
    "def train_markov_chain(lyrics):\n",
    "    \"\"\"\n",
    "    Args:\n",
    "      - lyrics: a list of strings, where each string represents\n",
    "                the lyrics of one song by an artist.\n",
    "    \n",
    "    Returns:\n",
    "      A dict that maps a tuple of 2 words (\"bigram\") to a list of\n",
    "      words that follow that bigram, representing the Markov\n",
    "      chain trained on the lyrics.\n",
    "    \"\"\"\n",
    "    chain = {(None, \"<START>\"): []}\n",
    "    for lyric in lyrics:\n",
    "\n",
    "        lyric_list = lyric.replace(\"\\n\",\" <n> \").lower().split()\n",
    "        lyric_list.insert(0,\"<START>\")\n",
    "        lyric_list.append(\"<END>\")\n",
    "        lyric_list[:] = [x if x != '<n>' else '<N>' for x in lyric_list]\n",
    "        \n",
    "        chain[(None, \"<START>\")].append(lyric_list[1])\n",
    "\n",
    "        index = 2\n",
    "        for word in lyric_list[index:]: \n",
    "            key = (lyric_list[index-2],lyric_list[index - 1])\n",
    "            if key in chain:\n",
    "                chain[key].append(word)\n",
    "            else:\n",
    "                chain[key] = [word]\n",
    "            index += 1\n",
    "            \n",
    "    return chain"
   ]
  },
  {
   "cell_type": "code",
   "execution_count": 20,
   "metadata": {},
   "outputs": [
    {
     "name": "stdout",
     "output_type": "stream",
     "text": [
      "['[chorus:', '[verse', '[chorus:', '[verse', '[video', '[verse', '[verse', '[verse', '[verse', '[chorus:']\n"
     ]
    }
   ],
   "source": [
    "# Load the pickled lyrics object that you created in Lab A.\n",
    "import pickle\n",
    "lyrics = pickle.load(open(\"lyrics.pkl\", \"rb\"))\n",
    "\n",
    "# Call the function you wrote above.\n",
    "chain = train_markov_chain(lyrics)\n",
    "\n",
    "# What words tend to start a song (i.e., what words follow the <START> tag?)\n",
    "print(chain[(None, \"<START>\")])"
   ]
  },
  {
   "cell_type": "markdown",
   "metadata": {},
   "source": [
    "Now, let's generate new lyrics using the Markov chain you constructed above. To do this, we'll begin at the `(None, \"<START>\")` state and randomly sample a word from the list of words that follow this bigram. Then, at each step, we'll randomly sample the next word from the list of words that followed the current bigram (i.e., the last two words). We will continue this process until we sample the `\"<END>\"` state. This will give us the complete lyrics of a randomly generated song!"
   ]
  },
  {
   "cell_type": "code",
   "execution_count": 21,
   "metadata": {},
   "outputs": [],
   "source": [
    "#practice \n",
    "\n",
    "words = []\n",
    "# generate the first word\n",
    "word = random.choice(chain[(None, \"<START>\")])\n",
    "words.append(word)\n",
    "bigram = (\"<START>\",words[0])\n",
    "word = random.choice(chain[bigram])\n",
    "\n",
    "while word != \"<END>\":\n",
    "    words.append(word)\n",
    "    bigram = (words[-2],words[-1])\n",
    "    word = random.choice(chain[bigram])\n",
    "    \n",
    "#words"
   ]
  },
  {
   "cell_type": "code",
   "execution_count": 22,
   "metadata": {},
   "outputs": [],
   "source": [
    "import random\n",
    "\n",
    "def generate_new_lyrics(chain):\n",
    "    \"\"\"\n",
    "    Args:\n",
    "      - chain: a dict representing the Markov chain,\n",
    "               such as one generated by generate_new_lyrics()\n",
    "    \n",
    "    Returns:\n",
    "      A string representing the randomly generated song.\n",
    "    \"\"\"\n",
    "    \n",
    "    # a list for storing the generated words\n",
    "    words = []\n",
    "    # generate the first word\n",
    "    words.append(random.choice(chain[(None, \"<START>\")]))\n",
    "    bigram = (\"<START>\",words[0])\n",
    "    word = random.choice(chain[bigram])\n",
    "\n",
    "    while word != \"<END>\":\n",
    "        words.append(word)\n",
    "        bigram = (words[-2],words[-1])\n",
    "        word = random.choice(chain[bigram])\n",
    "    \n",
    "    # join the words together into a string with line breaks\n",
    "    lyrics = \" \".join(words[:-1])\n",
    "    return \"\\n\".join(lyrics.split(\"<N>\"))"
   ]
  },
  {
   "cell_type": "code",
   "execution_count": 23,
   "metadata": {},
   "outputs": [
    {
     "name": "stdout",
     "output_type": "stream",
     "text": [
      "[verse 1: matt champion] \n",
      " what's your motive with me baby? \n",
      " 'cause i know it's not what you're waiting for, shit \n",
      " \n",
      " [verse 2: ameer vann & merlyn wood] \n",
      " damn, time-travelin', honda-swervin', that's so merlyn \n",
      " damn, time-travelin', honda-swervin', book learnin' \n",
      " that's so merlyn, that's so merlyn, that's so merlyn \n",
      " that's what they sayin' in private, speaking from that entitlement \n",
      " we like wu-tang but i feel all hefty \n",
      " i want \n",
      " i'm on a friday \n",
      " michael cera on a mission, every time that i remember \n",
      " i need someone who can handle it \n",
      " tell me what you're waiting for, hun \n",
      " \n",
      " [bridge: kevin abstract] \n",
      " what it's like to speak like a deadhead zombie \n",
      " feelings you don't want nobody, but you-u-u, mm-mm \n",
      " i need a friend (i need a honey butter, vodka in a ufo, i haven't started yet \n",
      " still gotta figure out exactly where to park it at \n",
      " but when i walk out the way\" \n",
      " i need an intervention, i need is a chain \n",
      " (i said i keep a gold chain on my boys and my wrist is fixed \n",
      " i just wanna feel like a monster, feel like santana \n",
      " she's lightskin just like seagulls? (eh...) \n",
      " \n",
      " [verse 4: dom mclennon] \n",
      " sun rise, let it set now \n",
      " poolside in houston \n",
      " tryna stack like tobey \n",
      " john travolta when i hit that run like a hundred times \n",
      " shawty love me like you say you do \n",
      " white lies hold the hidden truth \n",
      " you make mistakes or do you make mistakes or do you draw the line for when it's better days?” \n",
      " we taste the wind for when it's better days?” \n",
      " you think we runnin' together? i'm in a ufo, i haven't started yet \n",
      " still gotta figure out exactly where to park it at \n",
      " moses with the grams 'til they put the windows tinted \n",
      " i wanna know what i want a love that make my value go up, i keep that bow in my bag, we robbed a limousine \n",
      " when you see me in the hummer \n",
      " hot bars in the street\" \n",
      " flashback, i had the option, i would do it \n",
      " ice on my neck \n",
      " fly as a jet, boy, better treat me with respect \n",
      " (keep a gold chain (fly, fly as a jet, boy, better treat me with respect \n",
      " \n",
      " [verse 4: merlyn wood] \n",
      " feelin' like a deadhead zombie \n",
      " feelings you don't love me like you say you do \n",
      " white lies hold the hidden truth \n",
      " you can't play with my dogs, keep my car in the hummer \n",
      " hot bars in the front seat shifting the gears \n",
      " \n",
      " [verse 3: merlyn wood] \n",
      " damn, damn, i'm frosty \n",
      " blood diamond, i'm flossing \n",
      " navy camo, i'm drowning \n",
      " but you won't see me in the street, i'm like prince with the stunts \n",
      " jump off the highway \n",
      " police right behind me like my handle cortana \n",
      " we still workin' for titles and makin' tidal environments \n",
      " \n",
      " [pre-chorus: matt champion] \n",
      " rock the boat like a real-) \n",
      " i just wanna love you \n",
      " tell me what i'm here for \n",
      " i took like two of them pills, i can't barter with that \n",
      " you know like closet niggas, masc-type? \n",
      " why i cry when i take off \n",
      " then i skrrt off on the beat like i'm pee-wee herman \n",
      " hands up for all my boys and my bones \n",
      " i do what i see how i'm gon' make a shooter \n",
      " stamina, stamina! \n",
      " i want a love that make my body feel all hefty \n",
      " i feel like matthew mcconaughey \n",
      " i feel it \n",
      " ice on my neck \n",
      " fly as a jet, boy, better treat me with respect \n",
      " \n",
      " [chorus: kevin abstract] \n",
      " heath ledger with some dreads \n",
      " i want a shirt that make my body feel all hefty \n",
      " i been dead \n",
      " bad hoes, no name, brand slave, brainless \n",
      " \n",
      " [verse 5: joba] \n",
      " tell me why i can't remember nothing \n",
      " (go 'head now!) \n",
      " i just bought a black fo'-fifth \n",
      " and i got my hand in the street, i'm like a scholar, like to be holding the camera \n",
      " head was clean, tony fantano... \n",
      " made her my wife-a \n",
      " she can't eat 'cause she's so bella \n",
      " confused erection \n",
      " bad as hell, i don't need nobody to say they love me \n",
      " \n",
      " [bridge: joba] \n",
      " nigga, what?\n"
     ]
    }
   ],
   "source": [
    "print(generate_new_lyrics(chain))"
   ]
  },
  {
   "cell_type": "markdown",
   "metadata": {},
   "source": [
    "# Analysis\n",
    "\n",
    "Compare the quality of the lyrics generated by the unigram model (in Lab B) and the bigram model (in Lab C). Which model seems to generate more reasonable lyrics? Can you explain why? What do you see as the advantages and disadvantages of each model?"
   ]
  },
  {
   "cell_type": "markdown",
   "metadata": {},
   "source": [
    "**YOUR ANSWER HERE.**\n",
    "\n",
    "The lyrics generated by the bigram model seems more like a BROCKHAMPTON song than the lyrics generated by the unigram model. The grammar is certainly better with the bigram model than with the unigram model. I suppose this is because choosing a word that comes after a pair of words is more specific - there are less words to be followed by a pair of words than a single words. \n",
    "\n",
    "The unigram model creates a smaller chain than the bigram model. But, the results of the bigram model are more meaningful and reasonable because the chain is larger yet more specific. The thing is, BROCKHAMPTON has a lot of repetition and random lyrics than some songs - maybe because that is how Hip Hop goes these days. The unigram model would print too many repeated words. Like one line was \"head head head head head\", because one line in a song repeats \"head\" a few times in a row so there were multiple \"head\"s in the \"head\" key. However, the bigram model handles this well because it adds the word before and after the repeated \"head\" line in the lyrics, thus preventing the algorithm from getting stuck in \"head\" and other lyric patterns like this. "
   ]
  },
  {
   "cell_type": "code",
   "execution_count": null,
   "metadata": {},
   "outputs": [],
   "source": []
  }
 ],
 "metadata": {
  "kernelspec": {
   "display_name": "Python 3",
   "language": "python",
   "name": "python3"
  },
  "language_info": {
   "codemirror_mode": {
    "name": "ipython",
    "version": 3
   },
   "file_extension": ".py",
   "mimetype": "text/x-python",
   "name": "python",
   "nbconvert_exporter": "python",
   "pygments_lexer": "ipython3",
   "version": "3.7.1"
  }
 },
 "nbformat": 4,
 "nbformat_minor": 2
}
